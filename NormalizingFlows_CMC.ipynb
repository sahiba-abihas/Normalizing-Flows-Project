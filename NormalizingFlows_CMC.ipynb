{
  "nbformat": 4,
  "nbformat_minor": 0,
  "metadata": {
    "colab": {
      "provenance": []
    },
    "kernelspec": {
      "name": "python3",
      "display_name": "Python 3"
    },
    "language_info": {
      "name": "python"
    }
  },
  "cells": [
    {
      "cell_type": "code",
      "source": [
        "import argparse\n",
        "import copy\n",
        "import math\n",
        "import sys\n",
        "import os\n",
        "import h5py\n",
        "import multiprocessing\n",
        "from multiprocessing import Pool\n",
        "import tqdm\n",
        "import numpy as np\n",
        "import torch\n",
        "import torch.nn as nn\n",
        "import torch.optim as optim\n",
        "import torch.utils.data\n",
        "#from tensorboardX import SummaryWriter\n",
        "import flows as fnn\n",
        "#import utils as futils\n",
        "import matplotlib.pyplot as plt\n",
        "\n",
        "\n",
        "ncpu = multiprocessing.cpu_count()"
      ],
      "metadata": {
        "id": "zaOUvbqu1ssd"
      },
      "execution_count": null,
      "outputs": []
    },
    {
      "cell_type": "code",
      "execution_count": null,
      "metadata": {
        "id": "aY1HQomNeTKn"
      },
      "outputs": [],
      "source": [
        "import pandas as pd\n",
        "mydata = pd.read_csv('/content/CMC_data.dat')\n"
      ]
    },
    {
      "cell_type": "code",
      "source": [
        "column_names = [\n",
        "    \"model_num\", \"rv\", \"rg\", \"Z\", \"N\", \"merger_time(Myr)\",\n",
        "    \"id1\", \"id2\", \"m1\", \"m2\", \"merger_channel\"\n",
        "]\n",
        "\n",
        "mydata = pd.read_csv('/content/CMC_data.dat', delimiter=\"\\s+\", comment=\"#\", names=column_names)\n",
        "\n",
        "input_columns = ['rv', 'rg', 'Z', 'N']\n",
        "#rv: varial radius (radius of the cluster)\n",
        "# rg : posiion of the cluster in the galaxy\n",
        "#Z: metallicity\n",
        "#N: number of particles in the cluster\n",
        "\n",
        "output_columns = ['m1', 'm2', \"merger_time(Myr)\", \"merger_channel\"]\n",
        "#masses of the two black hole\n",
        "#merger time - how much time from the formation of cluster till they merge\n",
        "#merger channel - the wave through which these black holes merge\n",
        "\n",
        "hyperparams_trainvalid = mydata[input_columns].values\n",
        "data_trainvalid  = mydata[output_columns].values\n"
      ],
      "metadata": {
        "id": "vUBXyhS8xPei"
      },
      "execution_count": null,
      "outputs": []
    },
    {
      "cell_type": "code",
      "source": [
        "data_trainvalid[:,[0,1]]=np.log10(data_trainvalid[:,[0,1]])/100\n",
        "data_trainvalid[:,2]=np.log10(data_trainvalid[:,2])\n",
        "data_trainvalid[:,3]=np.log2(data_trainvalid[:,3])\n",
        "\n",
        "\n",
        "hyperparams_trainvalid[:,0]=hyperparams_trainvalid[:,0]/2\n",
        "hyperparams_trainvalid[:,1]=hyperparams_trainvalid[:,1]/20\n",
        "hyperparams_trainvalid[:,2]=np.log10(hyperparams_trainvalid[:,2]/0.02)\n",
        "hyperparams_trainvalid[:,3]=np.log2(hyperparams_trainvalid[:,3])"
      ],
      "metadata": {
        "id": "9WxQxN0lxXI6"
      },
      "execution_count": null,
      "outputs": []
    },
    {
      "cell_type": "code",
      "source": [],
      "metadata": {
        "id": "46-7PFtuxYLE"
      },
      "execution_count": null,
      "outputs": []
    },
    {
      "cell_type": "code",
      "source": [
        "hyperparams_trainvalid"
      ],
      "metadata": {
        "colab": {
          "base_uri": "https://localhost:8080/"
        },
        "id": "Jge-UUQxxzQX",
        "outputId": "dc82943d-ec8a-49b6-d1a8-c9d4d96cd1fe"
      },
      "execution_count": null,
      "outputs": [
        {
          "output_type": "execute_result",
          "data": {
            "text/plain": [
              "array([[ 0.25,  1.  ,  0.  ,  4.  ],\n",
              "       [ 0.25,  1.  ,  0.  ,  4.  ],\n",
              "       [ 0.25,  1.  ,  0.  ,  4.  ],\n",
              "       ...,\n",
              "       [ 1.  ,  0.1 , -1.  ,  3.  ],\n",
              "       [ 1.  ,  0.1 , -1.  ,  3.  ],\n",
              "       [ 1.  ,  0.1 , -1.  ,  3.  ]])"
            ]
          },
          "metadata": {},
          "execution_count": 5
        }
      ]
    },
    {
      "cell_type": "code",
      "source": [],
      "metadata": {
        "id": "mSEMVFEXdBD6"
      },
      "execution_count": null,
      "outputs": []
    },
    {
      "cell_type": "code",
      "source": [
        "\n",
        "class Args:\n",
        "    def __init__(self):\n",
        "        self.batch_size = 10**3\n",
        "        self.test_batch_size = 10**3\n",
        "        self.epochs = 10 #can track how loss affects\n",
        "        self.lr = 1e-4\n",
        "        self.flow = 'maf'\n",
        "        self.no_cuda = False\n",
        "        self.cond = True\n",
        "        self.num_blocks = 10 #number of layers\n",
        "        self.seed = 1\n",
        "        self.log_interval = 1000\n",
        "        self.num_inputs = 4\n",
        "        self.act = 'relu'\n",
        "        self.num_hidden = 256 #can play with this, increasing\n",
        "        self.num_cond_inputs = 4\n",
        "\n",
        "args = Args()\n",
        "\n",
        "# Check if CUDA (GPU) is available and set the device accordingly\n",
        "args.cuda = torch.cuda.is_available()\n",
        "device = torch.device(\"cuda:0\" if args.cuda else \"cpu\")\n",
        "\n",
        "\n",
        "\n",
        "if torch.cuda.is_available():\n",
        "    device_count = torch.cuda.device_count()\n",
        "    print(f\"Number of available GPUs: {device_count}\")\n",
        "    for i in range(device_count):\n",
        "        gpu_name = torch.cuda.get_device_name(i)\n",
        "        print(f\"GPU {i}: {gpu_name}\")\n",
        "else:\n",
        "    print(\"No GPUs available.\")\n",
        "\n",
        "# Define data loading workers for PyTorch DataLoader\n",
        "kwargs = {'num_workers': 4, 'pin_memory': True} if args.cuda else {}\n",
        "\n",
        "\n"
      ],
      "metadata": {
        "colab": {
          "base_uri": "https://localhost:8080/"
        },
        "id": "WUaj9HWA7t9c",
        "outputId": "40247a0c-8d7a-49f9-f815-ec5939bdda04"
      },
      "execution_count": null,
      "outputs": [
        {
          "output_type": "stream",
          "name": "stdout",
          "text": [
            "No GPUs available.\n"
          ]
        }
      ]
    },
    {
      "cell_type": "code",
      "source": [
        "# Create a custom PyTorch Dataset class\n",
        "class MyDataset(torch.utils.data.Dataset):\n",
        "    def __init__(self, input_data, output_data, input_dtype=torch.float32, output_dtype=torch.float32):\n",
        "        self.input_data = torch.tensor(input_data, dtype=input_dtype)\n",
        "        self.output_data = torch.tensor(output_data, dtype=output_dtype)\n",
        "\n",
        "    def __getitem__(self, index):\n",
        "        input_sample = self.input_data[index]\n",
        "        output_sample = self.output_data[index]\n",
        "        return input_sample, output_sample\n",
        "\n",
        "    def __len__(self):\n",
        "        return len(self.input_data)\n",
        "\n",
        "    @property\n",
        "    def tensors(self):\n",
        "        return (self.input_data, self.output_data)\n"
      ],
      "metadata": {
        "id": "qIf0IKx0754s"
      },
      "execution_count": null,
      "outputs": []
    },
    {
      "cell_type": "code",
      "source": [
        "def train(epoch, model, train_loader):\n",
        "    global global_step\n",
        "    model.train()\n",
        "    train_loss = 0\n",
        "\n",
        "    pbar = tqdm.tqdm(total=len(train_loader.dataset))\n",
        "\n",
        "    for batch_idx, data in enumerate(train_loader):\n",
        "        if isinstance(data, list):\n",
        "            if len(data) > 1:\n",
        "                cond_data = data[1].float()\n",
        "                cond_data = cond_data.to(device)\n",
        "            else:\n",
        "                cond_data = None\n",
        "\n",
        "            data = data[0]\n",
        "        data = data.to(device)\n",
        "        optimizer.zero_grad()\n",
        "        loss = -model.log_probs(data, cond_data).mean()\n",
        "        train_loss += loss.item()\n",
        "        loss.backward()\n",
        "        optimizer.step()\n",
        "\n",
        "        pbar.update(data.size(0))\n",
        "        pbar.set_description('Train, Log likelihood in nats: {:.6f}'.format(\n",
        "            -train_loss / (batch_idx + 1)))\n",
        "        global_step += 1\n",
        "\n",
        "    pbar.close()\n",
        "\n",
        "    for module in model.modules():\n",
        "        if isinstance(module, fnn.BatchNormFlow):\n",
        "            module.momentum = 0\n",
        "\n",
        "    if args.cond:\n",
        "        with torch.no_grad():\n",
        "            model(train_loader.dataset.dataset.tensors[0].to(data.device),\n",
        "                train_loader.dataset.dataset.tensors[1].to(data.device).float())\n",
        "    else:\n",
        "        with torch.no_grad():\n",
        "            model(train_loader.dataset.dataset.tensors[0].to(data.device))\n",
        "\n",
        "\n",
        "    for module in model.modules():\n",
        "        if isinstance(module, fnn.BatchNormFlow):\n",
        "            module.momentum = 1\n",
        "\n",
        "def validate(epoch, model, loader, prefix='Validation'):\n",
        "    global global_step, writer\n",
        "\n",
        "    model.eval()\n",
        "    val_loss = 0\n",
        "\n",
        "    pbar = tqdm.tqdm(total=len(loader.dataset))\n",
        "\n",
        "    pbar.set_description('Eval')\n",
        "    for batch_idx, data in enumerate(loader):\n",
        "        if isinstance(data, list):\n",
        "            if len(data) > 1:\n",
        "                cond_data = data[1].float()\n",
        "                cond_data = cond_data.to(device)\n",
        "            else:\n",
        "                cond_data = None\n",
        "\n",
        "            data = data[0]\n",
        "        data = data.to(device)\n",
        "        with torch.no_grad():\n",
        "            val_loss += -model.log_probs(data, cond_data).sum().item()  # sum up batch loss\n",
        "        pbar.update(data.size(0))\n",
        "\n",
        "\n",
        "    pbar.close()\n",
        "    return val_loss / len(loader.dataset)"
      ],
      "metadata": {
        "id": "QFhTrdh0789_"
      },
      "execution_count": null,
      "outputs": []
    },
    {
      "cell_type": "code",
      "source": [
        "\n",
        "\n",
        "modules = []\n",
        "for _ in range(args.num_blocks):\n",
        "    modules += [\n",
        "        fnn.MADE(args.num_inputs, args.num_hidden, args.num_cond_inputs, act=args.act),\n",
        "        fnn.BatchNormFlow(args.num_inputs),\n",
        "        fnn.Reverse(args.num_inputs)\n",
        "    ]\n",
        "model = fnn.FlowSequential(*modules)\n",
        "\n",
        "# Initialize the weights and biases of linear layers\n",
        "for module in model.modules():\n",
        "    if isinstance(module, nn.Linear):\n",
        "        nn.init.orthogonal_(module.weight)\n",
        "        if hasattr(module, 'bias') and module.bias is not None:\n",
        "            module.bias.data.fill_(0)\n",
        "\n"
      ],
      "metadata": {
        "id": "uhz61-x9EHGy"
      },
      "execution_count": null,
      "outputs": []
    },
    {
      "cell_type": "code",
      "source": [
        "# Generate a timestamp for logging\n",
        "import datetime\n",
        "timestamp = datetime.datetime.now().strftime(\"%b%d_%H-%M-%S\")\n",
        "logdir = f\"./Data/logs\"\n",
        "#writer = SummaryWriter(logdir, comment=args.flow)\n"
      ],
      "metadata": {
        "id": "M-iW7lk3EIon"
      },
      "execution_count": null,
      "outputs": []
    },
    {
      "cell_type": "code",
      "source": [
        "#inputs/given condition: 1)rv, 2) rg, 3)Z, 4) N\n",
        "#outputs: merger_time, m1, m2, merger_channel\n",
        "#ignore: 0) model_num, 6) id1, 7) id2"
      ],
      "metadata": {
        "id": "e01vBaYgEt2v"
      },
      "execution_count": null,
      "outputs": []
    },
    {
      "cell_type": "code",
      "source": [
        "mydata"
      ],
      "metadata": {
        "colab": {
          "base_uri": "https://localhost:8080/",
          "height": 423
        },
        "id": "uFjwAQJAqRp_",
        "outputId": "bb1ab23a-5cb6-477c-e70d-27479c4b05b7"
      },
      "execution_count": null,
      "outputs": [
        {
          "output_type": "execute_result",
          "data": {
            "text/plain": [
              "       model_num   rv    rg      Z     N  merger_time(Myr)        id1  \\\n",
              "0             36  0.5  20.0  0.020  16.0        292.224242  1834592.0   \n",
              "1             36  0.5  20.0  0.020  16.0        361.244899  1755061.0   \n",
              "2             36  0.5  20.0  0.020  16.0        380.915556   841575.0   \n",
              "3             36  0.5  20.0  0.020  16.0        578.985985  1454823.0   \n",
              "4             36  0.5  20.0  0.020  16.0        767.393557   335263.0   \n",
              "...          ...  ...   ...    ...   ...               ...        ...   \n",
              "12902         79  2.0   2.0  0.002   8.0       2762.273434   695653.0   \n",
              "12903         79  2.0   2.0  0.002   8.0       4489.273094   371012.0   \n",
              "12904         79  2.0   2.0  0.002   8.0       3075.959306   360550.0   \n",
              "12905         79  2.0   2.0  0.002   8.0       6930.893032   524685.0   \n",
              "12906         79  2.0   2.0  0.002   8.0       5592.680177   143635.0   \n",
              "\n",
              "             id2         m1         m2  merger_channel  \n",
              "0      2041552.0  14.100000  13.700000               5  \n",
              "1      1376500.0  14.800000   8.060000               5  \n",
              "2      2378898.0   8.100000   7.340000               5  \n",
              "3      1614161.0   8.090000   8.260000               5  \n",
              "4      1110530.0   7.690000   8.170000               5  \n",
              "...          ...        ...        ...             ...  \n",
              "12902   974142.0  20.148504  20.068989               1  \n",
              "12903   461588.0  22.968067  15.378122               1  \n",
              "12904   810826.0  17.155740  16.942399               1  \n",
              "12905   631994.0  15.808002  15.244599               1  \n",
              "12906   244454.0  16.207619  15.318726               1  \n",
              "\n",
              "[12907 rows x 11 columns]"
            ],
            "text/html": [
              "\n",
              "  <div id=\"df-5335ae7e-99d6-460c-a729-a87f0e9eecfb\" class=\"colab-df-container\">\n",
              "    <div>\n",
              "<style scoped>\n",
              "    .dataframe tbody tr th:only-of-type {\n",
              "        vertical-align: middle;\n",
              "    }\n",
              "\n",
              "    .dataframe tbody tr th {\n",
              "        vertical-align: top;\n",
              "    }\n",
              "\n",
              "    .dataframe thead th {\n",
              "        text-align: right;\n",
              "    }\n",
              "</style>\n",
              "<table border=\"1\" class=\"dataframe\">\n",
              "  <thead>\n",
              "    <tr style=\"text-align: right;\">\n",
              "      <th></th>\n",
              "      <th>model_num</th>\n",
              "      <th>rv</th>\n",
              "      <th>rg</th>\n",
              "      <th>Z</th>\n",
              "      <th>N</th>\n",
              "      <th>merger_time(Myr)</th>\n",
              "      <th>id1</th>\n",
              "      <th>id2</th>\n",
              "      <th>m1</th>\n",
              "      <th>m2</th>\n",
              "      <th>merger_channel</th>\n",
              "    </tr>\n",
              "  </thead>\n",
              "  <tbody>\n",
              "    <tr>\n",
              "      <th>0</th>\n",
              "      <td>36</td>\n",
              "      <td>0.5</td>\n",
              "      <td>20.0</td>\n",
              "      <td>0.020</td>\n",
              "      <td>16.0</td>\n",
              "      <td>292.224242</td>\n",
              "      <td>1834592.0</td>\n",
              "      <td>2041552.0</td>\n",
              "      <td>14.100000</td>\n",
              "      <td>13.700000</td>\n",
              "      <td>5</td>\n",
              "    </tr>\n",
              "    <tr>\n",
              "      <th>1</th>\n",
              "      <td>36</td>\n",
              "      <td>0.5</td>\n",
              "      <td>20.0</td>\n",
              "      <td>0.020</td>\n",
              "      <td>16.0</td>\n",
              "      <td>361.244899</td>\n",
              "      <td>1755061.0</td>\n",
              "      <td>1376500.0</td>\n",
              "      <td>14.800000</td>\n",
              "      <td>8.060000</td>\n",
              "      <td>5</td>\n",
              "    </tr>\n",
              "    <tr>\n",
              "      <th>2</th>\n",
              "      <td>36</td>\n",
              "      <td>0.5</td>\n",
              "      <td>20.0</td>\n",
              "      <td>0.020</td>\n",
              "      <td>16.0</td>\n",
              "      <td>380.915556</td>\n",
              "      <td>841575.0</td>\n",
              "      <td>2378898.0</td>\n",
              "      <td>8.100000</td>\n",
              "      <td>7.340000</td>\n",
              "      <td>5</td>\n",
              "    </tr>\n",
              "    <tr>\n",
              "      <th>3</th>\n",
              "      <td>36</td>\n",
              "      <td>0.5</td>\n",
              "      <td>20.0</td>\n",
              "      <td>0.020</td>\n",
              "      <td>16.0</td>\n",
              "      <td>578.985985</td>\n",
              "      <td>1454823.0</td>\n",
              "      <td>1614161.0</td>\n",
              "      <td>8.090000</td>\n",
              "      <td>8.260000</td>\n",
              "      <td>5</td>\n",
              "    </tr>\n",
              "    <tr>\n",
              "      <th>4</th>\n",
              "      <td>36</td>\n",
              "      <td>0.5</td>\n",
              "      <td>20.0</td>\n",
              "      <td>0.020</td>\n",
              "      <td>16.0</td>\n",
              "      <td>767.393557</td>\n",
              "      <td>335263.0</td>\n",
              "      <td>1110530.0</td>\n",
              "      <td>7.690000</td>\n",
              "      <td>8.170000</td>\n",
              "      <td>5</td>\n",
              "    </tr>\n",
              "    <tr>\n",
              "      <th>...</th>\n",
              "      <td>...</td>\n",
              "      <td>...</td>\n",
              "      <td>...</td>\n",
              "      <td>...</td>\n",
              "      <td>...</td>\n",
              "      <td>...</td>\n",
              "      <td>...</td>\n",
              "      <td>...</td>\n",
              "      <td>...</td>\n",
              "      <td>...</td>\n",
              "      <td>...</td>\n",
              "    </tr>\n",
              "    <tr>\n",
              "      <th>12902</th>\n",
              "      <td>79</td>\n",
              "      <td>2.0</td>\n",
              "      <td>2.0</td>\n",
              "      <td>0.002</td>\n",
              "      <td>8.0</td>\n",
              "      <td>2762.273434</td>\n",
              "      <td>695653.0</td>\n",
              "      <td>974142.0</td>\n",
              "      <td>20.148504</td>\n",
              "      <td>20.068989</td>\n",
              "      <td>1</td>\n",
              "    </tr>\n",
              "    <tr>\n",
              "      <th>12903</th>\n",
              "      <td>79</td>\n",
              "      <td>2.0</td>\n",
              "      <td>2.0</td>\n",
              "      <td>0.002</td>\n",
              "      <td>8.0</td>\n",
              "      <td>4489.273094</td>\n",
              "      <td>371012.0</td>\n",
              "      <td>461588.0</td>\n",
              "      <td>22.968067</td>\n",
              "      <td>15.378122</td>\n",
              "      <td>1</td>\n",
              "    </tr>\n",
              "    <tr>\n",
              "      <th>12904</th>\n",
              "      <td>79</td>\n",
              "      <td>2.0</td>\n",
              "      <td>2.0</td>\n",
              "      <td>0.002</td>\n",
              "      <td>8.0</td>\n",
              "      <td>3075.959306</td>\n",
              "      <td>360550.0</td>\n",
              "      <td>810826.0</td>\n",
              "      <td>17.155740</td>\n",
              "      <td>16.942399</td>\n",
              "      <td>1</td>\n",
              "    </tr>\n",
              "    <tr>\n",
              "      <th>12905</th>\n",
              "      <td>79</td>\n",
              "      <td>2.0</td>\n",
              "      <td>2.0</td>\n",
              "      <td>0.002</td>\n",
              "      <td>8.0</td>\n",
              "      <td>6930.893032</td>\n",
              "      <td>524685.0</td>\n",
              "      <td>631994.0</td>\n",
              "      <td>15.808002</td>\n",
              "      <td>15.244599</td>\n",
              "      <td>1</td>\n",
              "    </tr>\n",
              "    <tr>\n",
              "      <th>12906</th>\n",
              "      <td>79</td>\n",
              "      <td>2.0</td>\n",
              "      <td>2.0</td>\n",
              "      <td>0.002</td>\n",
              "      <td>8.0</td>\n",
              "      <td>5592.680177</td>\n",
              "      <td>143635.0</td>\n",
              "      <td>244454.0</td>\n",
              "      <td>16.207619</td>\n",
              "      <td>15.318726</td>\n",
              "      <td>1</td>\n",
              "    </tr>\n",
              "  </tbody>\n",
              "</table>\n",
              "<p>12907 rows × 11 columns</p>\n",
              "</div>\n",
              "    <div class=\"colab-df-buttons\">\n",
              "\n",
              "  <div class=\"colab-df-container\">\n",
              "    <button class=\"colab-df-convert\" onclick=\"convertToInteractive('df-5335ae7e-99d6-460c-a729-a87f0e9eecfb')\"\n",
              "            title=\"Convert this dataframe to an interactive table.\"\n",
              "            style=\"display:none;\">\n",
              "\n",
              "  <svg xmlns=\"http://www.w3.org/2000/svg\" height=\"24px\" viewBox=\"0 -960 960 960\">\n",
              "    <path d=\"M120-120v-720h720v720H120Zm60-500h600v-160H180v160Zm220 220h160v-160H400v160Zm0 220h160v-160H400v160ZM180-400h160v-160H180v160Zm440 0h160v-160H620v160ZM180-180h160v-160H180v160Zm440 0h160v-160H620v160Z\"/>\n",
              "  </svg>\n",
              "    </button>\n",
              "\n",
              "  <style>\n",
              "    .colab-df-container {\n",
              "      display:flex;\n",
              "      gap: 12px;\n",
              "    }\n",
              "\n",
              "    .colab-df-convert {\n",
              "      background-color: #E8F0FE;\n",
              "      border: none;\n",
              "      border-radius: 50%;\n",
              "      cursor: pointer;\n",
              "      display: none;\n",
              "      fill: #1967D2;\n",
              "      height: 32px;\n",
              "      padding: 0 0 0 0;\n",
              "      width: 32px;\n",
              "    }\n",
              "\n",
              "    .colab-df-convert:hover {\n",
              "      background-color: #E2EBFA;\n",
              "      box-shadow: 0px 1px 2px rgba(60, 64, 67, 0.3), 0px 1px 3px 1px rgba(60, 64, 67, 0.15);\n",
              "      fill: #174EA6;\n",
              "    }\n",
              "\n",
              "    .colab-df-buttons div {\n",
              "      margin-bottom: 4px;\n",
              "    }\n",
              "\n",
              "    [theme=dark] .colab-df-convert {\n",
              "      background-color: #3B4455;\n",
              "      fill: #D2E3FC;\n",
              "    }\n",
              "\n",
              "    [theme=dark] .colab-df-convert:hover {\n",
              "      background-color: #434B5C;\n",
              "      box-shadow: 0px 1px 3px 1px rgba(0, 0, 0, 0.15);\n",
              "      filter: drop-shadow(0px 1px 2px rgba(0, 0, 0, 0.3));\n",
              "      fill: #FFFFFF;\n",
              "    }\n",
              "  </style>\n",
              "\n",
              "    <script>\n",
              "      const buttonEl =\n",
              "        document.querySelector('#df-5335ae7e-99d6-460c-a729-a87f0e9eecfb button.colab-df-convert');\n",
              "      buttonEl.style.display =\n",
              "        google.colab.kernel.accessAllowed ? 'block' : 'none';\n",
              "\n",
              "      async function convertToInteractive(key) {\n",
              "        const element = document.querySelector('#df-5335ae7e-99d6-460c-a729-a87f0e9eecfb');\n",
              "        const dataTable =\n",
              "          await google.colab.kernel.invokeFunction('convertToInteractive',\n",
              "                                                    [key], {});\n",
              "        if (!dataTable) return;\n",
              "\n",
              "        const docLinkHtml = 'Like what you see? Visit the ' +\n",
              "          '<a target=\"_blank\" href=https://colab.research.google.com/notebooks/data_table.ipynb>data table notebook</a>'\n",
              "          + ' to learn more about interactive tables.';\n",
              "        element.innerHTML = '';\n",
              "        dataTable['output_type'] = 'display_data';\n",
              "        await google.colab.output.renderOutput(dataTable, element);\n",
              "        const docLink = document.createElement('div');\n",
              "        docLink.innerHTML = docLinkHtml;\n",
              "        element.appendChild(docLink);\n",
              "      }\n",
              "    </script>\n",
              "  </div>\n",
              "\n",
              "\n",
              "<div id=\"df-2f2be7ed-9009-41de-876b-9849595bf6ae\">\n",
              "  <button class=\"colab-df-quickchart\" onclick=\"quickchart('df-2f2be7ed-9009-41de-876b-9849595bf6ae')\"\n",
              "            title=\"Suggest charts\"\n",
              "            style=\"display:none;\">\n",
              "\n",
              "<svg xmlns=\"http://www.w3.org/2000/svg\" height=\"24px\"viewBox=\"0 0 24 24\"\n",
              "     width=\"24px\">\n",
              "    <g>\n",
              "        <path d=\"M19 3H5c-1.1 0-2 .9-2 2v14c0 1.1.9 2 2 2h14c1.1 0 2-.9 2-2V5c0-1.1-.9-2-2-2zM9 17H7v-7h2v7zm4 0h-2V7h2v10zm4 0h-2v-4h2v4z\"/>\n",
              "    </g>\n",
              "</svg>\n",
              "  </button>\n",
              "\n",
              "<style>\n",
              "  .colab-df-quickchart {\n",
              "      --bg-color: #E8F0FE;\n",
              "      --fill-color: #1967D2;\n",
              "      --hover-bg-color: #E2EBFA;\n",
              "      --hover-fill-color: #174EA6;\n",
              "      --disabled-fill-color: #AAA;\n",
              "      --disabled-bg-color: #DDD;\n",
              "  }\n",
              "\n",
              "  [theme=dark] .colab-df-quickchart {\n",
              "      --bg-color: #3B4455;\n",
              "      --fill-color: #D2E3FC;\n",
              "      --hover-bg-color: #434B5C;\n",
              "      --hover-fill-color: #FFFFFF;\n",
              "      --disabled-bg-color: #3B4455;\n",
              "      --disabled-fill-color: #666;\n",
              "  }\n",
              "\n",
              "  .colab-df-quickchart {\n",
              "    background-color: var(--bg-color);\n",
              "    border: none;\n",
              "    border-radius: 50%;\n",
              "    cursor: pointer;\n",
              "    display: none;\n",
              "    fill: var(--fill-color);\n",
              "    height: 32px;\n",
              "    padding: 0;\n",
              "    width: 32px;\n",
              "  }\n",
              "\n",
              "  .colab-df-quickchart:hover {\n",
              "    background-color: var(--hover-bg-color);\n",
              "    box-shadow: 0 1px 2px rgba(60, 64, 67, 0.3), 0 1px 3px 1px rgba(60, 64, 67, 0.15);\n",
              "    fill: var(--button-hover-fill-color);\n",
              "  }\n",
              "\n",
              "  .colab-df-quickchart-complete:disabled,\n",
              "  .colab-df-quickchart-complete:disabled:hover {\n",
              "    background-color: var(--disabled-bg-color);\n",
              "    fill: var(--disabled-fill-color);\n",
              "    box-shadow: none;\n",
              "  }\n",
              "\n",
              "  .colab-df-spinner {\n",
              "    border: 2px solid var(--fill-color);\n",
              "    border-color: transparent;\n",
              "    border-bottom-color: var(--fill-color);\n",
              "    animation:\n",
              "      spin 1s steps(1) infinite;\n",
              "  }\n",
              "\n",
              "  @keyframes spin {\n",
              "    0% {\n",
              "      border-color: transparent;\n",
              "      border-bottom-color: var(--fill-color);\n",
              "      border-left-color: var(--fill-color);\n",
              "    }\n",
              "    20% {\n",
              "      border-color: transparent;\n",
              "      border-left-color: var(--fill-color);\n",
              "      border-top-color: var(--fill-color);\n",
              "    }\n",
              "    30% {\n",
              "      border-color: transparent;\n",
              "      border-left-color: var(--fill-color);\n",
              "      border-top-color: var(--fill-color);\n",
              "      border-right-color: var(--fill-color);\n",
              "    }\n",
              "    40% {\n",
              "      border-color: transparent;\n",
              "      border-right-color: var(--fill-color);\n",
              "      border-top-color: var(--fill-color);\n",
              "    }\n",
              "    60% {\n",
              "      border-color: transparent;\n",
              "      border-right-color: var(--fill-color);\n",
              "    }\n",
              "    80% {\n",
              "      border-color: transparent;\n",
              "      border-right-color: var(--fill-color);\n",
              "      border-bottom-color: var(--fill-color);\n",
              "    }\n",
              "    90% {\n",
              "      border-color: transparent;\n",
              "      border-bottom-color: var(--fill-color);\n",
              "    }\n",
              "  }\n",
              "</style>\n",
              "\n",
              "  <script>\n",
              "    async function quickchart(key) {\n",
              "      const quickchartButtonEl =\n",
              "        document.querySelector('#' + key + ' button');\n",
              "      quickchartButtonEl.disabled = true;  // To prevent multiple clicks.\n",
              "      quickchartButtonEl.classList.add('colab-df-spinner');\n",
              "      try {\n",
              "        const charts = await google.colab.kernel.invokeFunction(\n",
              "            'suggestCharts', [key], {});\n",
              "      } catch (error) {\n",
              "        console.error('Error during call to suggestCharts:', error);\n",
              "      }\n",
              "      quickchartButtonEl.classList.remove('colab-df-spinner');\n",
              "      quickchartButtonEl.classList.add('colab-df-quickchart-complete');\n",
              "    }\n",
              "    (() => {\n",
              "      let quickchartButtonEl =\n",
              "        document.querySelector('#df-2f2be7ed-9009-41de-876b-9849595bf6ae button');\n",
              "      quickchartButtonEl.style.display =\n",
              "        google.colab.kernel.accessAllowed ? 'block' : 'none';\n",
              "    })();\n",
              "  </script>\n",
              "</div>\n",
              "\n",
              "  <div id=\"id_8ca4ee5a-7805-4dc3-aa94-d6eb8387105e\">\n",
              "    <style>\n",
              "      .colab-df-generate {\n",
              "        background-color: #E8F0FE;\n",
              "        border: none;\n",
              "        border-radius: 50%;\n",
              "        cursor: pointer;\n",
              "        display: none;\n",
              "        fill: #1967D2;\n",
              "        height: 32px;\n",
              "        padding: 0 0 0 0;\n",
              "        width: 32px;\n",
              "      }\n",
              "\n",
              "      .colab-df-generate:hover {\n",
              "        background-color: #E2EBFA;\n",
              "        box-shadow: 0px 1px 2px rgba(60, 64, 67, 0.3), 0px 1px 3px 1px rgba(60, 64, 67, 0.15);\n",
              "        fill: #174EA6;\n",
              "      }\n",
              "\n",
              "      [theme=dark] .colab-df-generate {\n",
              "        background-color: #3B4455;\n",
              "        fill: #D2E3FC;\n",
              "      }\n",
              "\n",
              "      [theme=dark] .colab-df-generate:hover {\n",
              "        background-color: #434B5C;\n",
              "        box-shadow: 0px 1px 3px 1px rgba(0, 0, 0, 0.15);\n",
              "        filter: drop-shadow(0px 1px 2px rgba(0, 0, 0, 0.3));\n",
              "        fill: #FFFFFF;\n",
              "      }\n",
              "    </style>\n",
              "    <button class=\"colab-df-generate\" onclick=\"generateWithVariable('mydata')\"\n",
              "            title=\"Generate code using this dataframe.\"\n",
              "            style=\"display:none;\">\n",
              "\n",
              "  <svg xmlns=\"http://www.w3.org/2000/svg\" height=\"24px\"viewBox=\"0 0 24 24\"\n",
              "       width=\"24px\">\n",
              "    <path d=\"M7,19H8.4L18.45,9,17,7.55,7,17.6ZM5,21V16.75L18.45,3.32a2,2,0,0,1,2.83,0l1.4,1.43a1.91,1.91,0,0,1,.58,1.4,1.91,1.91,0,0,1-.58,1.4L9.25,21ZM18.45,9,17,7.55Zm-12,3A5.31,5.31,0,0,0,4.9,8.1,5.31,5.31,0,0,0,1,6.5,5.31,5.31,0,0,0,4.9,4.9,5.31,5.31,0,0,0,6.5,1,5.31,5.31,0,0,0,8.1,4.9,5.31,5.31,0,0,0,12,6.5,5.46,5.46,0,0,0,6.5,12Z\"/>\n",
              "  </svg>\n",
              "    </button>\n",
              "    <script>\n",
              "      (() => {\n",
              "      const buttonEl =\n",
              "        document.querySelector('#id_8ca4ee5a-7805-4dc3-aa94-d6eb8387105e button.colab-df-generate');\n",
              "      buttonEl.style.display =\n",
              "        google.colab.kernel.accessAllowed ? 'block' : 'none';\n",
              "\n",
              "      buttonEl.onclick = () => {\n",
              "        google.colab.notebook.generateWithVariable('mydata');\n",
              "      }\n",
              "      })();\n",
              "    </script>\n",
              "  </div>\n",
              "\n",
              "    </div>\n",
              "  </div>\n"
            ]
          },
          "metadata": {},
          "execution_count": 11
        }
      ]
    },
    {
      "cell_type": "code",
      "source": [
        "# Create a PyTorch dataset and split it into training and validation sets\n",
        "dataset = MyDataset(data_trainvalid, hyperparams_trainvalid)\n",
        "train_ratio = 0.8\n",
        "\n",
        "train_size = int(train_ratio * len(dataset))\n",
        "valid_size = len(dataset) - train_size\n",
        "\n",
        "train_dataset, valid_dataset = torch.utils.data.random_split(dataset, [train_size, valid_size])\n",
        "train_loader = torch.utils.data.DataLoader(train_dataset, batch_size=args.batch_size, shuffle=True, **kwargs)\n",
        "valid_loader = torch.utils.data.DataLoader(valid_dataset, batch_size=args.test_batch_size, shuffle=False, **kwargs)\n",
        "\n"
      ],
      "metadata": {
        "id": "Ax7fHfcYEWLc"
      },
      "execution_count": null,
      "outputs": []
    },
    {
      "cell_type": "code",
      "source": [
        "\n",
        "global_step = 0\n",
        "\n",
        "best_validation_loss = float('inf')\n",
        "best_validation_epoch = 0\n",
        "best_validation_run = 0\n",
        "best_model = model\n",
        "\n",
        "model.to(device)\n",
        "optimizer = optim.Adadelta(model.parameters())\n",
        "\n"
      ],
      "metadata": {
        "id": "i6f21IroEKMN"
      },
      "execution_count": null,
      "outputs": []
    },
    {
      "cell_type": "code",
      "source": [
        "# Training loop\n",
        "for epoch in range(1, args.epochs):\n",
        "    train(epoch, model, train_loader)\n",
        "    validation_loss = validate(epoch, model, valid_loader)\n",
        "\n",
        "    if validation_loss < best_validation_loss:\n",
        "        best_validation_epoch = epoch\n",
        "        best_validation_loss = validation_loss\n",
        "        best_model = copy.deepcopy(model)\n",
        "\n",
        "    print('Best validation at epoch {}: Average Log Likelihood in nats: {:.4f}'.format(best_validation_epoch, -best_validation_loss))\n",
        "\n",
        "    if (epoch) - (best_validation_epoch) >= 30:\n",
        "        break\n"
      ],
      "metadata": {
        "colab": {
          "base_uri": "https://localhost:8080/"
        },
        "id": "vTTlKyW7qCb2",
        "outputId": "f997e988-c6a8-49e3-989f-91692ef2a729"
      },
      "execution_count": null,
      "outputs": [
        {
          "output_type": "stream",
          "name": "stderr",
          "text": [
            "\n",
            "  0%|          | 0/10325 [00:00<?, ?it/s]\u001b[A\n",
            " 10%|▉         | 1000/10325 [00:00<00:01, 6531.23it/s]\u001b[A\n",
            "Train, Log likelihood in nats: 11.142541:  10%|▉         | 1000/10325 [00:00<00:01, 6531.23it/s]\u001b[A\n",
            "Train, Log likelihood in nats: 11.142541:  19%|█▉        | 2000/10325 [00:00<00:01, 5948.82it/s]\u001b[A\n",
            "Train, Log likelihood in nats: 11.174767:  19%|█▉        | 2000/10325 [00:00<00:01, 5948.82it/s]\u001b[A\n",
            "Train, Log likelihood in nats: 11.174767:  29%|██▉       | 3000/10325 [00:00<00:01, 5591.99it/s]\u001b[A\n",
            "Train, Log likelihood in nats: 11.020875:  29%|██▉       | 3000/10325 [00:00<00:01, 5591.99it/s]\u001b[A\n",
            "Train, Log likelihood in nats: 11.020875:  39%|███▊      | 4000/10325 [00:00<00:01, 5357.97it/s]\u001b[A\n",
            "Train, Log likelihood in nats: 11.104805:  39%|███▊      | 4000/10325 [00:00<00:01, 5357.97it/s]\u001b[A\n",
            "Train, Log likelihood in nats: 11.104805:  48%|████▊     | 5000/10325 [00:01<00:01, 3453.29it/s]\u001b[A\n",
            "Train, Log likelihood in nats: 11.224536:  48%|████▊     | 5000/10325 [00:01<00:01, 3453.29it/s]\u001b[A\n",
            "Train, Log likelihood in nats: 11.224536:  58%|█████▊    | 6000/10325 [00:01<00:01, 4140.00it/s]\u001b[A\n",
            "Train, Log likelihood in nats: 11.133303:  58%|█████▊    | 6000/10325 [00:01<00:01, 4140.00it/s]\u001b[A\n",
            "Train, Log likelihood in nats: 11.133303:  68%|██████▊   | 7000/10325 [00:01<00:00, 4716.08it/s]\u001b[A\n",
            "Train, Log likelihood in nats: 11.076461:  68%|██████▊   | 7000/10325 [00:01<00:00, 4716.08it/s]\u001b[A\n",
            "Train, Log likelihood in nats: 11.076461:  77%|███████▋  | 8000/10325 [00:01<00:00, 5080.54it/s]\u001b[A\n",
            "Train, Log likelihood in nats: 11.094148:  77%|███████▋  | 8000/10325 [00:01<00:00, 5080.54it/s]\u001b[A\n",
            "Train, Log likelihood in nats: 11.094148:  87%|████████▋ | 9000/10325 [00:01<00:00, 5454.96it/s]\u001b[A\n",
            "Train, Log likelihood in nats: 11.097466:  87%|████████▋ | 9000/10325 [00:01<00:00, 5454.96it/s]\u001b[A\n",
            "Train, Log likelihood in nats: 11.097466:  97%|█████████▋| 10000/10325 [00:01<00:00, 5750.15it/s]\u001b[A\n",
            "Train, Log likelihood in nats: 11.086985:  97%|█████████▋| 10000/10325 [00:01<00:00, 5750.15it/s]\u001b[A\n",
            "Train, Log likelihood in nats: 11.102100: 100%|██████████| 10325/10325 [00:02<00:00, 5025.29it/s]\n",
            "\n",
            "  0%|          | 0/2582 [00:00<?, ?it/s]\u001b[A\n",
            "Eval:   0%|          | 0/2582 [00:00<?, ?it/s]\u001b[A\n",
            "Eval: 100%|██████████| 2582/2582 [00:00<00:00, 18275.37it/s]\n"
          ]
        },
        {
          "output_type": "stream",
          "name": "stdout",
          "text": [
            "Best validation at epoch 1: Average Log Likelihood in nats: 11.0710\n"
          ]
        },
        {
          "output_type": "stream",
          "name": "stderr",
          "text": [
            "\n",
            "  0%|          | 0/10325 [00:00<?, ?it/s]\u001b[A\n",
            " 10%|▉         | 1000/10325 [00:00<00:01, 6973.27it/s]\u001b[A\n",
            "Train, Log likelihood in nats: 11.121948:  10%|▉         | 1000/10325 [00:00<00:01, 6973.27it/s]\u001b[A\n",
            "Train, Log likelihood in nats: 11.121948:  19%|█▉        | 2000/10325 [00:00<00:01, 6671.08it/s]\u001b[A\n",
            "Train, Log likelihood in nats: 11.230105:  19%|█▉        | 2000/10325 [00:00<00:01, 6671.08it/s]\u001b[A\n",
            "Train, Log likelihood in nats: 11.230105:  29%|██▉       | 3000/10325 [00:00<00:01, 6719.32it/s]\u001b[A\n",
            "Train, Log likelihood in nats: 11.359219:  29%|██▉       | 3000/10325 [00:00<00:01, 6719.32it/s]\u001b[A\n",
            "Train, Log likelihood in nats: 11.359219:  39%|███▊      | 4000/10325 [00:00<00:00, 6724.72it/s]\u001b[A\n",
            "Train, Log likelihood in nats: 11.219759:  39%|███▊      | 4000/10325 [00:00<00:00, 6724.72it/s]\u001b[A\n",
            "Train, Log likelihood in nats: 11.219759:  48%|████▊     | 5000/10325 [00:00<00:00, 6570.87it/s]\u001b[A\n",
            "Train, Log likelihood in nats: 11.146412:  48%|████▊     | 5000/10325 [00:00<00:00, 6570.87it/s]\u001b[A\n",
            "Train, Log likelihood in nats: 11.146412:  58%|█████▊    | 6000/10325 [00:00<00:00, 6419.99it/s]\u001b[A\n",
            "Train, Log likelihood in nats: 11.152992:  58%|█████▊    | 6000/10325 [00:00<00:00, 6419.99it/s]\u001b[A\n",
            "Train, Log likelihood in nats: 11.152992:  68%|██████▊   | 7000/10325 [00:01<00:00, 6472.69it/s]\u001b[A\n",
            "Train, Log likelihood in nats: 11.234676:  68%|██████▊   | 7000/10325 [00:01<00:00, 6472.69it/s]\u001b[A\n",
            "Train, Log likelihood in nats: 11.234676:  77%|███████▋  | 8000/10325 [00:01<00:00, 6526.40it/s]\u001b[A\n",
            "Train, Log likelihood in nats: 11.175228:  77%|███████▋  | 8000/10325 [00:01<00:00, 6526.40it/s]\u001b[A\n",
            "Train, Log likelihood in nats: 11.175228:  87%|████████▋ | 9000/10325 [00:01<00:00, 6625.22it/s]\u001b[A\n",
            "Train, Log likelihood in nats: 11.209320:  87%|████████▋ | 9000/10325 [00:01<00:00, 6625.22it/s]\u001b[A\n",
            "Train, Log likelihood in nats: 11.209320:  97%|█████████▋| 10000/10325 [00:01<00:00, 6601.48it/s]\u001b[A\n",
            "Train, Log likelihood in nats: 11.213500:  97%|█████████▋| 10000/10325 [00:01<00:00, 6601.48it/s]\u001b[A\n",
            "Train, Log likelihood in nats: 11.204076: 100%|██████████| 10325/10325 [00:01<00:00, 6434.39it/s]\n",
            "\n",
            "  0%|          | 0/2582 [00:00<?, ?it/s]\u001b[A\n",
            "Eval:   0%|          | 0/2582 [00:00<?, ?it/s]\u001b[A\n",
            "Eval: 100%|██████████| 2582/2582 [00:00<00:00, 16820.32it/s]\n"
          ]
        },
        {
          "output_type": "stream",
          "name": "stdout",
          "text": [
            "Best validation at epoch 1: Average Log Likelihood in nats: 11.0710\n"
          ]
        },
        {
          "output_type": "stream",
          "name": "stderr",
          "text": [
            "\n",
            "  0%|          | 0/10325 [00:00<?, ?it/s]\u001b[A\n",
            " 10%|▉         | 1000/10325 [00:00<00:01, 6116.52it/s]\u001b[A\n",
            "Train, Log likelihood in nats: 10.524415:  10%|▉         | 1000/10325 [00:00<00:01, 6116.52it/s]\u001b[A\n",
            "Train, Log likelihood in nats: 10.524415:  19%|█▉        | 2000/10325 [00:00<00:01, 5874.19it/s]\u001b[A\n",
            "Train, Log likelihood in nats: 10.738391:  19%|█▉        | 2000/10325 [00:00<00:01, 5874.19it/s]\u001b[A\n",
            "Train, Log likelihood in nats: 10.738391:  29%|██▉       | 3000/10325 [00:00<00:01, 5544.37it/s]\u001b[A\n",
            "Train, Log likelihood in nats: 10.781016:  29%|██▉       | 3000/10325 [00:00<00:01, 5544.37it/s]\u001b[A\n",
            "Train, Log likelihood in nats: 10.781016:  39%|███▊      | 4000/10325 [00:00<00:01, 5539.73it/s]\u001b[A\n",
            "Train, Log likelihood in nats: 10.786045:  39%|███▊      | 4000/10325 [00:00<00:01, 5539.73it/s]\u001b[A\n",
            "Train, Log likelihood in nats: 10.786045:  48%|████▊     | 5000/10325 [00:00<00:00, 5636.58it/s]\u001b[A\n",
            "Train, Log likelihood in nats: 10.880982:  48%|████▊     | 5000/10325 [00:00<00:00, 5636.58it/s]\u001b[A\n",
            "Train, Log likelihood in nats: 10.880982:  58%|█████▊    | 6000/10325 [00:01<00:00, 5840.13it/s]\u001b[A\n",
            "Train, Log likelihood in nats: 10.969832:  58%|█████▊    | 6000/10325 [00:01<00:00, 5840.13it/s]\u001b[A\n",
            "Train, Log likelihood in nats: 10.969832:  68%|██████▊   | 7000/10325 [00:01<00:00, 6028.48it/s]\u001b[A\n",
            "Train, Log likelihood in nats: 11.018462:  68%|██████▊   | 7000/10325 [00:01<00:00, 6028.48it/s]\u001b[A\n",
            "Train, Log likelihood in nats: 11.018462:  77%|███████▋  | 8000/10325 [00:01<00:00, 6207.08it/s]\u001b[A\n",
            "Train, Log likelihood in nats: 11.085217:  77%|███████▋  | 8000/10325 [00:01<00:00, 6207.08it/s]\u001b[A\n",
            "Train, Log likelihood in nats: 11.085217:  87%|████████▋ | 9000/10325 [00:01<00:00, 6170.34it/s]\u001b[A\n",
            "Train, Log likelihood in nats: 11.102285:  87%|████████▋ | 9000/10325 [00:01<00:00, 6170.34it/s]\u001b[A\n",
            "Train, Log likelihood in nats: 11.102285:  97%|█████████▋| 10000/10325 [00:01<00:00, 6174.14it/s]\u001b[A\n",
            "Train, Log likelihood in nats: 11.093944:  97%|█████████▋| 10000/10325 [00:01<00:00, 6174.14it/s]\u001b[A\n",
            "Train, Log likelihood in nats: 11.039568: 100%|██████████| 10325/10325 [00:01<00:00, 5841.73it/s]\n",
            "\n",
            "  0%|          | 0/2582 [00:00<?, ?it/s]\u001b[A\n",
            "Eval:   0%|          | 0/2582 [00:00<?, ?it/s]\u001b[A\n",
            "Eval: 100%|██████████| 2582/2582 [00:00<00:00, 16624.16it/s]\n"
          ]
        },
        {
          "output_type": "stream",
          "name": "stdout",
          "text": [
            "Best validation at epoch 3: Average Log Likelihood in nats: 11.3297\n"
          ]
        },
        {
          "output_type": "stream",
          "name": "stderr",
          "text": [
            "\n",
            "  0%|          | 0/10325 [00:00<?, ?it/s]\u001b[A\n",
            " 10%|▉         | 1000/10325 [00:00<00:01, 4965.10it/s]\u001b[A\n",
            "Train, Log likelihood in nats: 11.330432:  10%|▉         | 1000/10325 [00:00<00:01, 4965.10it/s]\u001b[A\n",
            "Train, Log likelihood in nats: 11.330432:  19%|█▉        | 2000/10325 [00:00<00:01, 4722.47it/s]\u001b[A\n",
            "Train, Log likelihood in nats: 11.484811:  19%|█▉        | 2000/10325 [00:00<00:01, 4722.47it/s]\u001b[A\n",
            "Train, Log likelihood in nats: 11.484811:  29%|██▉       | 3000/10325 [00:00<00:01, 4283.48it/s]\u001b[A\n",
            "Train, Log likelihood in nats: 11.320682:  29%|██▉       | 3000/10325 [00:00<00:01, 4283.48it/s]\u001b[A\n",
            "Train, Log likelihood in nats: 11.320682:  39%|███▊      | 4000/10325 [00:00<00:01, 3943.25it/s]\u001b[A\n",
            "Train, Log likelihood in nats: 11.328770:  39%|███▊      | 4000/10325 [00:00<00:01, 3943.25it/s]\u001b[A\n",
            "Train, Log likelihood in nats: 11.328770:  48%|████▊     | 5000/10325 [00:01<00:01, 3823.76it/s]\u001b[A\n",
            "Train, Log likelihood in nats: 11.299095:  48%|████▊     | 5000/10325 [00:01<00:01, 3823.76it/s]\u001b[A\n",
            "Train, Log likelihood in nats: 11.299095:  58%|█████▊    | 6000/10325 [00:01<00:01, 3921.05it/s]\u001b[A\n",
            "Train, Log likelihood in nats: 11.325891:  58%|█████▊    | 6000/10325 [00:01<00:01, 3921.05it/s]\u001b[A\n",
            "Train, Log likelihood in nats: 11.325891:  68%|██████▊   | 7000/10325 [00:01<00:00, 3939.30it/s]\u001b[A\n",
            "Train, Log likelihood in nats: 11.300524:  68%|██████▊   | 7000/10325 [00:01<00:00, 3939.30it/s]\u001b[A\n",
            "Train, Log likelihood in nats: 11.300524:  77%|███████▋  | 8000/10325 [00:02<00:00, 3809.42it/s]\u001b[A\n",
            "Train, Log likelihood in nats: 11.257789:  77%|███████▋  | 8000/10325 [00:02<00:00, 3809.42it/s]\u001b[A\n",
            "Train, Log likelihood in nats: 11.257789:  87%|████████▋ | 9000/10325 [00:02<00:00, 3729.08it/s]\u001b[A\n",
            "Train, Log likelihood in nats: 11.281649:  87%|████████▋ | 9000/10325 [00:02<00:00, 3729.08it/s]\u001b[A\n",
            "Train, Log likelihood in nats: 11.281649:  97%|█████████▋| 10000/10325 [00:02<00:00, 3806.64it/s]\u001b[A\n",
            "Train, Log likelihood in nats: 11.235400:  97%|█████████▋| 10000/10325 [00:02<00:00, 3806.64it/s]\u001b[A\n",
            "Train, Log likelihood in nats: 11.239543: 100%|██████████| 10325/10325 [00:02<00:00, 3865.46it/s]\n",
            "\n",
            "  0%|          | 0/2582 [00:00<?, ?it/s]\u001b[A\n",
            "Eval:   0%|          | 0/2582 [00:00<?, ?it/s]\u001b[A\n",
            "Eval: 100%|██████████| 2582/2582 [00:00<00:00, 19876.72it/s]\n"
          ]
        },
        {
          "output_type": "stream",
          "name": "stdout",
          "text": [
            "Best validation at epoch 3: Average Log Likelihood in nats: 11.3297\n"
          ]
        },
        {
          "output_type": "stream",
          "name": "stderr",
          "text": [
            "\n",
            "  0%|          | 0/10325 [00:00<?, ?it/s]\u001b[A\n",
            " 10%|▉         | 1000/10325 [00:00<00:01, 7495.64it/s]\u001b[A\n",
            "Train, Log likelihood in nats: 10.639188:  10%|▉         | 1000/10325 [00:00<00:01, 7495.64it/s]\u001b[A\n",
            "Train, Log likelihood in nats: 10.639188:  19%|█▉        | 2000/10325 [00:00<00:01, 6947.97it/s]\u001b[A\n",
            "Train, Log likelihood in nats: 10.938385:  19%|█▉        | 2000/10325 [00:00<00:01, 6947.97it/s]\u001b[A\n",
            "Train, Log likelihood in nats: 10.938385:  29%|██▉       | 3000/10325 [00:00<00:01, 6837.17it/s]\u001b[A\n",
            "Train, Log likelihood in nats: 10.808729:  29%|██▉       | 3000/10325 [00:00<00:01, 6837.17it/s]\u001b[A\n",
            "Train, Log likelihood in nats: 10.808729:  39%|███▊      | 4000/10325 [00:00<00:00, 6756.12it/s]\u001b[A\n",
            "Train, Log likelihood in nats: 10.987921:  39%|███▊      | 4000/10325 [00:00<00:00, 6756.12it/s]\u001b[A\n",
            "Train, Log likelihood in nats: 10.987921:  48%|████▊     | 5000/10325 [00:00<00:00, 6512.78it/s]\u001b[A\n",
            "Train, Log likelihood in nats: 10.914617:  48%|████▊     | 5000/10325 [00:00<00:00, 6512.78it/s]\u001b[A\n",
            "Train, Log likelihood in nats: 10.914617:  58%|█████▊    | 6000/10325 [00:00<00:00, 6417.43it/s]\u001b[A\n",
            "Train, Log likelihood in nats: 10.968754:  58%|█████▊    | 6000/10325 [00:00<00:00, 6417.43it/s]\u001b[A\n",
            "Train, Log likelihood in nats: 10.968754:  68%|██████▊   | 7000/10325 [00:01<00:00, 6521.67it/s]\u001b[A\n",
            "Train, Log likelihood in nats: 11.069002:  68%|██████▊   | 7000/10325 [00:01<00:00, 6521.67it/s]\u001b[A\n",
            "Train, Log likelihood in nats: 11.069002:  77%|███████▋  | 8000/10325 [00:01<00:00, 6634.37it/s]\u001b[A\n",
            "Train, Log likelihood in nats: 11.121054:  77%|███████▋  | 8000/10325 [00:01<00:00, 6634.37it/s]\u001b[A\n",
            "Train, Log likelihood in nats: 11.121054:  87%|████████▋ | 9000/10325 [00:01<00:00, 6707.29it/s]\u001b[A\n",
            "Train, Log likelihood in nats: 11.069697:  87%|████████▋ | 9000/10325 [00:01<00:00, 6707.29it/s]\u001b[A\n",
            "Train, Log likelihood in nats: 11.069697:  97%|█████████▋| 10000/10325 [00:01<00:00, 6650.10it/s]\u001b[A\n",
            "Train, Log likelihood in nats: 11.147078:  97%|█████████▋| 10000/10325 [00:01<00:00, 6650.10it/s]\u001b[A\n",
            "Train, Log likelihood in nats: 11.157389: 100%|██████████| 10325/10325 [00:01<00:00, 6510.22it/s]\n",
            "\n",
            "  0%|          | 0/2582 [00:00<?, ?it/s]\u001b[A\n",
            "Eval:   0%|          | 0/2582 [00:00<?, ?it/s]\u001b[A\n",
            "Eval: 100%|██████████| 2582/2582 [00:00<00:00, 17662.07it/s]\n"
          ]
        },
        {
          "output_type": "stream",
          "name": "stdout",
          "text": [
            "Best validation at epoch 3: Average Log Likelihood in nats: 11.3297\n"
          ]
        },
        {
          "output_type": "stream",
          "name": "stderr",
          "text": [
            "\n",
            "  0%|          | 0/10325 [00:00<?, ?it/s]\u001b[A\n",
            " 10%|▉         | 1000/10325 [00:00<00:01, 7204.68it/s]\u001b[A\n",
            "Train, Log likelihood in nats: 10.732558:  10%|▉         | 1000/10325 [00:00<00:01, 7204.68it/s]\u001b[A\n",
            "Train, Log likelihood in nats: 10.732558:  19%|█▉        | 2000/10325 [00:00<00:01, 6703.18it/s]\u001b[A\n",
            "Train, Log likelihood in nats: 11.006972:  19%|█▉        | 2000/10325 [00:00<00:01, 6703.18it/s]\u001b[A\n",
            "Train, Log likelihood in nats: 11.006972:  29%|██▉       | 3000/10325 [00:00<00:01, 6602.11it/s]\u001b[A\n",
            "Train, Log likelihood in nats: 11.246725:  29%|██▉       | 3000/10325 [00:00<00:01, 6602.11it/s]\u001b[A\n",
            "Train, Log likelihood in nats: 11.246725:  39%|███▊      | 4000/10325 [00:00<00:00, 6554.15it/s]\u001b[A\n",
            "Train, Log likelihood in nats: 11.178679:  39%|███▊      | 4000/10325 [00:00<00:00, 6554.15it/s]\u001b[A\n",
            "Train, Log likelihood in nats: 11.178679:  48%|████▊     | 5000/10325 [00:00<00:00, 6214.28it/s]\u001b[A\n",
            "Train, Log likelihood in nats: 11.254132:  48%|████▊     | 5000/10325 [00:00<00:00, 6214.28it/s]\u001b[A\n",
            "Train, Log likelihood in nats: 11.254132:  58%|█████▊    | 6000/10325 [00:00<00:00, 5900.40it/s]\u001b[A\n",
            "Train, Log likelihood in nats: 11.269610:  58%|█████▊    | 6000/10325 [00:00<00:00, 5900.40it/s]\u001b[A\n",
            "Train, Log likelihood in nats: 11.269610:  68%|██████▊   | 7000/10325 [00:01<00:00, 5859.66it/s]\u001b[A\n",
            "Train, Log likelihood in nats: 11.241647:  68%|██████▊   | 7000/10325 [00:01<00:00, 5859.66it/s]\u001b[A\n",
            "Train, Log likelihood in nats: 11.241647:  77%|███████▋  | 8000/10325 [00:01<00:00, 5683.83it/s]\u001b[A\n",
            "Train, Log likelihood in nats: 11.202881:  77%|███████▋  | 8000/10325 [00:01<00:00, 5683.83it/s]\u001b[A\n",
            "Train, Log likelihood in nats: 11.202881:  87%|████████▋ | 9000/10325 [00:01<00:00, 5553.14it/s]\u001b[A\n",
            "Train, Log likelihood in nats: 11.230414:  87%|████████▋ | 9000/10325 [00:01<00:00, 5553.14it/s]\u001b[A\n",
            "Train, Log likelihood in nats: 11.230414:  97%|█████████▋| 10000/10325 [00:01<00:00, 5659.38it/s]\u001b[A\n",
            "Train, Log likelihood in nats: 11.256753:  97%|█████████▋| 10000/10325 [00:01<00:00, 5659.38it/s]\u001b[A\n",
            "Train, Log likelihood in nats: 11.217931: 100%|██████████| 10325/10325 [00:01<00:00, 5824.19it/s]\n",
            "\n",
            "  0%|          | 0/2582 [00:00<?, ?it/s]\u001b[A\n",
            "Eval:   0%|          | 0/2582 [00:00<?, ?it/s]\u001b[A\n",
            "Eval: 100%|██████████| 2582/2582 [00:00<00:00, 17134.15it/s]\n"
          ]
        },
        {
          "output_type": "stream",
          "name": "stdout",
          "text": [
            "Best validation at epoch 3: Average Log Likelihood in nats: 11.3297\n"
          ]
        },
        {
          "output_type": "stream",
          "name": "stderr",
          "text": [
            "\n",
            "  0%|          | 0/10325 [00:00<?, ?it/s]\u001b[A\n",
            " 10%|▉         | 1000/10325 [00:00<00:01, 7176.46it/s]\u001b[A\n",
            "Train, Log likelihood in nats: 11.231984:  10%|▉         | 1000/10325 [00:00<00:01, 7176.46it/s]\u001b[A\n",
            "Train, Log likelihood in nats: 11.231984:  19%|█▉        | 2000/10325 [00:00<00:01, 6949.61it/s]\u001b[A\n",
            "Train, Log likelihood in nats: 11.107276:  19%|█▉        | 2000/10325 [00:00<00:01, 6949.61it/s]\u001b[A\n",
            "Train, Log likelihood in nats: 11.107276:  29%|██▉       | 3000/10325 [00:00<00:01, 6819.89it/s]\u001b[A\n",
            "Train, Log likelihood in nats: 11.291245:  29%|██▉       | 3000/10325 [00:00<00:01, 6819.89it/s]\u001b[A\n",
            "Train, Log likelihood in nats: 11.291245:  39%|███▊      | 4000/10325 [00:00<00:00, 6700.22it/s]\u001b[A\n",
            "Train, Log likelihood in nats: 11.178818:  39%|███▊      | 4000/10325 [00:00<00:00, 6700.22it/s]\u001b[A\n",
            "Train, Log likelihood in nats: 11.178818:  48%|████▊     | 5000/10325 [00:00<00:00, 6707.40it/s]\u001b[A\n",
            "Train, Log likelihood in nats: 11.258463:  48%|████▊     | 5000/10325 [00:00<00:00, 6707.40it/s]\u001b[A\n",
            "Train, Log likelihood in nats: 11.258463:  58%|█████▊    | 6000/10325 [00:00<00:00, 6790.52it/s]\u001b[A\n",
            "Train, Log likelihood in nats: 11.287314:  58%|█████▊    | 6000/10325 [00:00<00:00, 6790.52it/s]\u001b[A\n",
            "Train, Log likelihood in nats: 11.287314:  68%|██████▊   | 7000/10325 [00:01<00:00, 6628.41it/s]\u001b[A\n",
            "Train, Log likelihood in nats: 11.264923:  68%|██████▊   | 7000/10325 [00:01<00:00, 6628.41it/s]\u001b[A\n",
            "Train, Log likelihood in nats: 11.264923:  77%|███████▋  | 8000/10325 [00:01<00:00, 6512.59it/s]\u001b[A\n",
            "Train, Log likelihood in nats: 11.315655:  77%|███████▋  | 8000/10325 [00:01<00:00, 6512.59it/s]\u001b[A\n",
            "Train, Log likelihood in nats: 11.315655:  87%|████████▋ | 9000/10325 [00:01<00:00, 6245.69it/s]\u001b[A\n",
            "Train, Log likelihood in nats: 11.290076:  87%|████████▋ | 9000/10325 [00:01<00:00, 6245.69it/s]\u001b[A\n",
            "Train, Log likelihood in nats: 11.290076:  97%|█████████▋| 10000/10325 [00:01<00:00, 6091.28it/s]\u001b[A\n",
            "Train, Log likelihood in nats: 11.235245:  97%|█████████▋| 10000/10325 [00:01<00:00, 6091.28it/s]\u001b[A\n",
            "Train, Log likelihood in nats: 11.178790: 100%|██████████| 10325/10325 [00:01<00:00, 6259.79it/s]\n",
            "\n",
            "  0%|          | 0/2582 [00:00<?, ?it/s]\u001b[A\n",
            "Eval:   0%|          | 0/2582 [00:00<?, ?it/s]\u001b[A\n",
            "Eval: 100%|██████████| 2582/2582 [00:00<00:00, 17641.50it/s]\n"
          ]
        },
        {
          "output_type": "stream",
          "name": "stdout",
          "text": [
            "Best validation at epoch 3: Average Log Likelihood in nats: 11.3297\n"
          ]
        },
        {
          "output_type": "stream",
          "name": "stderr",
          "text": [
            "\n",
            "  0%|          | 0/10325 [00:00<?, ?it/s]\u001b[A\n",
            " 10%|▉         | 1000/10325 [00:00<00:01, 7162.12it/s]\u001b[A\n",
            "Train, Log likelihood in nats: 11.183761:  10%|▉         | 1000/10325 [00:00<00:01, 7162.12it/s]\u001b[A\n",
            "Train, Log likelihood in nats: 11.183761:  19%|█▉        | 2000/10325 [00:00<00:01, 6793.48it/s]\u001b[A\n",
            "Train, Log likelihood in nats: 11.276823:  19%|█▉        | 2000/10325 [00:00<00:01, 6793.48it/s]\u001b[A\n",
            "Train, Log likelihood in nats: 11.276823:  29%|██▉       | 3000/10325 [00:00<00:01, 6564.27it/s]\u001b[A\n",
            "Train, Log likelihood in nats: 11.216062:  29%|██▉       | 3000/10325 [00:00<00:01, 6564.27it/s]\u001b[A\n",
            "Train, Log likelihood in nats: 11.216062:  39%|███▊      | 4000/10325 [00:00<00:00, 6538.41it/s]\u001b[A\n",
            "Train, Log likelihood in nats: 11.123998:  39%|███▊      | 4000/10325 [00:00<00:00, 6538.41it/s]\u001b[A\n",
            "Train, Log likelihood in nats: 11.123998:  48%|████▊     | 5000/10325 [00:00<00:00, 6251.88it/s]\u001b[A\n",
            "Train, Log likelihood in nats: 11.217804:  48%|████▊     | 5000/10325 [00:00<00:00, 6251.88it/s]\u001b[A\n",
            "Train, Log likelihood in nats: 11.217804:  58%|█████▊    | 6000/10325 [00:00<00:00, 6062.74it/s]\u001b[A\n",
            "Train, Log likelihood in nats: 11.258846:  58%|█████▊    | 6000/10325 [00:00<00:00, 6062.74it/s]\u001b[A\n",
            "Train, Log likelihood in nats: 11.258846:  68%|██████▊   | 7000/10325 [00:01<00:00, 5978.45it/s]\u001b[A\n",
            "Train, Log likelihood in nats: 11.293906:  68%|██████▊   | 7000/10325 [00:01<00:00, 5978.45it/s]\u001b[A\n",
            "Train, Log likelihood in nats: 11.293906:  77%|███████▋  | 8000/10325 [00:01<00:00, 5822.97it/s]\u001b[A\n",
            "Train, Log likelihood in nats: 11.329458:  77%|███████▋  | 8000/10325 [00:01<00:00, 5822.97it/s]\u001b[A\n",
            "Train, Log likelihood in nats: 11.329458:  87%|████████▋ | 9000/10325 [00:01<00:00, 5555.54it/s]\u001b[A\n",
            "Train, Log likelihood in nats: 11.346780:  87%|████████▋ | 9000/10325 [00:01<00:00, 5555.54it/s]\u001b[A\n",
            "Train, Log likelihood in nats: 11.346780:  97%|█████████▋| 10000/10325 [00:01<00:00, 5558.21it/s]\u001b[A\n",
            "Train, Log likelihood in nats: 11.321737:  97%|█████████▋| 10000/10325 [00:01<00:00, 5558.21it/s]\u001b[A\n",
            "Train, Log likelihood in nats: 11.327659: 100%|██████████| 10325/10325 [00:01<00:00, 5787.08it/s]\n",
            "\n",
            "  0%|          | 0/2582 [00:00<?, ?it/s]\u001b[A\n",
            "Eval:   0%|          | 0/2582 [00:00<?, ?it/s]\u001b[A\n",
            "Eval: 100%|██████████| 2582/2582 [00:00<00:00, 10476.11it/s]\n"
          ]
        },
        {
          "output_type": "stream",
          "name": "stdout",
          "text": [
            "Best validation at epoch 3: Average Log Likelihood in nats: 11.3297\n"
          ]
        },
        {
          "output_type": "stream",
          "name": "stderr",
          "text": [
            "\n",
            "  0%|          | 0/10325 [00:00<?, ?it/s]\u001b[A\n",
            " 10%|▉         | 1000/10325 [00:00<00:02, 4283.60it/s]\u001b[A\n",
            "Train, Log likelihood in nats: 11.250007:  10%|▉         | 1000/10325 [00:00<00:02, 4283.60it/s]\u001b[A\n",
            "Train, Log likelihood in nats: 11.250007:  19%|█▉        | 2000/10325 [00:00<00:02, 3750.52it/s]\u001b[A\n",
            "Train, Log likelihood in nats: 11.331426:  19%|█▉        | 2000/10325 [00:00<00:02, 3750.52it/s]\u001b[A\n",
            "Train, Log likelihood in nats: 11.331426:  29%|██▉       | 3000/10325 [00:00<00:01, 3802.37it/s]\u001b[A\n",
            "Train, Log likelihood in nats: 11.435191:  29%|██▉       | 3000/10325 [00:00<00:01, 3802.37it/s]\u001b[A\n",
            "Train, Log likelihood in nats: 11.435191:  39%|███▊      | 4000/10325 [00:01<00:01, 3757.40it/s]\u001b[A\n",
            "Train, Log likelihood in nats: 11.511469:  39%|███▊      | 4000/10325 [00:01<00:01, 3757.40it/s]\u001b[A\n",
            "Train, Log likelihood in nats: 11.511469:  48%|████▊     | 5000/10325 [00:01<00:01, 3786.70it/s]\u001b[A\n",
            "Train, Log likelihood in nats: 11.394881:  48%|████▊     | 5000/10325 [00:01<00:01, 3786.70it/s]\u001b[A\n",
            "Train, Log likelihood in nats: 11.394881:  58%|█████▊    | 6000/10325 [00:01<00:01, 3724.95it/s]\u001b[A\n",
            "Train, Log likelihood in nats: 11.382444:  58%|█████▊    | 6000/10325 [00:01<00:01, 3724.95it/s]\u001b[A\n",
            "Train, Log likelihood in nats: 11.382444:  68%|██████▊   | 7000/10325 [00:01<00:00, 4164.65it/s]\u001b[A\n",
            "Train, Log likelihood in nats: 11.322484:  68%|██████▊   | 7000/10325 [00:01<00:00, 4164.65it/s]\u001b[A\n",
            "Train, Log likelihood in nats: 11.322484:  77%|███████▋  | 8000/10325 [00:01<00:00, 4736.06it/s]\u001b[A\n",
            "Train, Log likelihood in nats: 11.361232:  77%|███████▋  | 8000/10325 [00:01<00:00, 4736.06it/s]\u001b[A\n",
            "Train, Log likelihood in nats: 11.361232:  87%|████████▋ | 9000/10325 [00:02<00:00, 5239.51it/s]\u001b[A\n",
            "Train, Log likelihood in nats: 11.396455:  87%|████████▋ | 9000/10325 [00:02<00:00, 5239.51it/s]\u001b[A\n",
            "Train, Log likelihood in nats: 11.396455:  97%|█████████▋| 10000/10325 [00:02<00:00, 5635.45it/s]\u001b[A\n",
            "Train, Log likelihood in nats: 11.325669:  97%|█████████▋| 10000/10325 [00:02<00:00, 5635.45it/s]\u001b[A\n",
            "Train, Log likelihood in nats: 11.309221: 100%|██████████| 10325/10325 [00:02<00:00, 4488.67it/s]\n",
            "\n",
            "  0%|          | 0/2582 [00:00<?, ?it/s]\u001b[A\n",
            "Eval:   0%|          | 0/2582 [00:00<?, ?it/s]\u001b[A\n",
            "Eval: 100%|██████████| 2582/2582 [00:00<00:00, 14626.02it/s]\n"
          ]
        },
        {
          "output_type": "stream",
          "name": "stdout",
          "text": [
            "Best validation at epoch 9: Average Log Likelihood in nats: 11.5637\n"
          ]
        }
      ]
    },
    {
      "cell_type": "code",
      "source": [],
      "metadata": {
        "id": "uC8qRbdQgF-k"
      },
      "execution_count": null,
      "outputs": []
    },
    {
      "cell_type": "code",
      "execution_count": null,
      "metadata": {
        "id": "j1oSelQkyJ_h"
      },
      "outputs": [],
      "source": [
        "\n",
        "maxnum =0.0\n",
        "current = 0.0;\n",
        "optimal = 0.0;\n",
        "\n",
        "\n",
        "\n",
        "for i in range(1,3):\n",
        "   # Training loop\n",
        "  for epoch in range(i):\n",
        "    train(epoch, model, train_loader)\n",
        "    validation_loss = validate(epoch, model, valid_loader)\n",
        "\n",
        "    if validation_loss < best_validation_loss:\n",
        "        best_validation_epoch = epoch\n",
        "        best_validation_loss = validation_loss\n",
        "        best_model = copy.deepcopy(model)\n",
        "        current = best_validation_loss\n",
        "    if (epoch) - (best_validation_epoch) >= 30:\n",
        "      break\n",
        "\n",
        "\n",
        "  if current>maxnum:\n",
        "    maxnum = current\n",
        "    optimal = i;\n",
        "\n",
        "\n",
        "  print(\"next i\")\n",
        "\n",
        "\n",
        "\n",
        "print(maxnum)\n",
        "print(optimal)\n",
        "\n"
      ]
    },
    {
      "cell_type": "code",
      "source": [],
      "metadata": {
        "id": "_hswSxUfgWVc"
      },
      "execution_count": null,
      "outputs": []
    },
    {
      "cell_type": "code",
      "source": [],
      "metadata": {
        "id": "65hHUUKsjWEA"
      },
      "execution_count": null,
      "outputs": []
    },
    {
      "cell_type": "code",
      "source": [
        "#possible values of conditions\n",
        "np.unique(hyperparams_trainvalid, axis=0)"
      ],
      "metadata": {
        "id": "qviG87JtPaw3"
      },
      "execution_count": null,
      "outputs": []
    },
    {
      "cell_type": "code",
      "source": [
        "hyperparam=[0.5, 1. , 0. , 5. ]\n",
        "batch_size = 10**4\n",
        "fixed_noise = torch.Tensor(batch_size, best_model.num_inputs ).normal_()\n",
        "cond_data=torch.tensor(hyperparam, dtype=torch.float32)"
      ],
      "metadata": {
        "id": "GNjlA-522Tk8"
      },
      "execution_count": null,
      "outputs": []
    },
    {
      "cell_type": "code",
      "source": [
        "%%time\n",
        "\n",
        "best_model.eval()\n",
        "imgs = best_model.sample(batch_size, noise=fixed_noise, cond_inputs=cond_data).detach().cpu()\n",
        "imgs=imgs[~torch.isnan(imgs).any(dim=1)]\n"
      ],
      "metadata": {
        "colab": {
          "base_uri": "https://localhost:8080/"
        },
        "id": "DJsF1vwa-PVf",
        "outputId": "a8bb2911-fba0-4952-a4f9-a834461ee7a6"
      },
      "execution_count": null,
      "outputs": [
        {
          "output_type": "stream",
          "name": "stdout",
          "text": [
            "CPU times: user 170 ms, sys: 75.8 ms, total: 246 ms\n",
            "Wall time: 257 ms\n"
          ]
        }
      ]
    },
    {
      "cell_type": "code",
      "source": [],
      "metadata": {
        "id": "_A-7q3jjkjN6"
      },
      "execution_count": null,
      "outputs": []
    },
    {
      "cell_type": "code",
      "source": [
        "matching_pos=np.where(np.all(hyperparams_trainvalid == hyperparam, axis=1))[0]\n",
        "data_selected=data_trainvalid[matching_pos]\n",
        "\n",
        "for i in range(0,4):\n",
        "  plt.hist(imgs[:,i].detach().numpy(), histtype='step', density=True)\n",
        "  plt.hist(data_selected[:,i], histtype='step', density=True)\n",
        "  plt.show()"
      ],
      "metadata": {
        "colab": {
          "base_uri": "https://localhost:8080/",
          "height": 1000
        },
        "id": "Bj5grCtgYuF9",
        "outputId": "cddeaf23-b5e4-41a7-ace9-deee122c3a15"
      },
      "execution_count": null,
      "outputs": [
        {
          "output_type": "display_data",
          "data": {
            "text/plain": [
              "<Figure size 640x480 with 1 Axes>"
            ],
            "image/png": "[encoded data removed]"
          },
          "metadata": {}
        },
        {
          "output_type": "display_data",
          "data": {
            "text/plain": [
              "<Figure size 640x480 with 1 Axes>"
            ],
            "image/png": "[encoded data removed]"
          },
          "metadata": {}
        },
        {
          "output_type": "display_data",
          "data": {
            "text/plain": [
              "<Figure size 640x480 with 1 Axes>"
            ],
            "image/png": "[encoded data removed]"
          },
          "metadata": {}
        },
        {
          "output_type": "display_data",
          "data": {
            "text/plain": [
              "<Figure size 640x480 with 1 Axes>"
            ],
            "image/png": "[encoded data removed]"
          },
          "metadata": {}
        }
      ]
    },
    {
      "cell_type": "code",
      "source": [
        "import matplotlib.pyplot as plt\n",
        "import pandas as pd\n",
        "import numpy as np\n",
        "\n",
        "fig, axs = plt.subplots(2, 3, figsize=(25, 10))\n",
        "\n",
        "ax = axs[0]\n",
        "hist_settings = {'bins':50\n",
        "}\n",
        "\n",
        "ax[0].hist2d(*np.transpose(data_selected)[[0, 1]], **hist_settings)\n",
        "ax[1].hist2d(*np.transpose(data_selected)[[0, 2]], **hist_settings)\n",
        "ax[2].hist2d(*np.transpose(data_selected)[[0, 3]], **hist_settings)\n",
        "\n",
        "ax = axs[1]\n",
        "hist_settings = {'bins':100\n",
        "}\n",
        "data=imgs.detach().numpy()\n",
        "\n",
        "for i in range(3):\n",
        "  ax[i].hist2d(*np.transpose(data)[[0, i+1]], bins=(np.linspace(*axs[0][i].get_xlim(), 51), np.linspace(*axs[0][i].get_ylim(), 51)))\n",
        "\n",
        "for i in range(3):\n",
        "    axs[1][i].set_xlim(axs[0][i].get_xlim())\n",
        "    axs[1][i].set_ylim(axs[0][i].get_ylim())\n",
        "\n",
        "plt.show()\n"
      ],
      "metadata": {
        "colab": {
          "base_uri": "https://localhost:8080/",
          "height": 623
        },
        "id": "_Eo2nCNfYt-K",
        "outputId": "e7ecc692-bdf2-4f71-a334-a42a92e5c5e0"
      },
      "execution_count": null,
      "outputs": [
        {
          "output_type": "display_data",
          "data": {
            "text/plain": [
              "<Figure size 2500x1000 with 6 Axes>"
            ],
            "image/png": "[encoded data removed]"
          },
          "metadata": {}
        }
      ]
    }
  ]
}